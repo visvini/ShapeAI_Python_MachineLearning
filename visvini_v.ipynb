{
  "nbformat": 4,
  "nbformat_minor": 0,
  "metadata": {
    "colab": {
      "name": "visvini v.ipynb",
      "provenance": [],
      "collapsed_sections": []
    },
    "kernelspec": {
      "name": "python3",
      "display_name": "Python 3"
    },
    "language_info": {
      "name": "python"
    }
  },
  "cells": [
    {
      "cell_type": "code",
      "metadata": {
        "id": "NROK5U_H_utC"
      },
      "source": [
        " import numpy as np\n",
        " import pandas as pd\n",
        " import sklearn"
      ],
      "execution_count": null,
      "outputs": []
    },
    {
      "cell_type": "code",
      "metadata": {
        "id": "NUW_r1yZPkGz"
      },
      "source": [
        " from sklearn.datasets import load_boston\n",
        " df = load_boston()"
      ],
      "execution_count": null,
      "outputs": []
    },
    {
      "cell_type": "code",
      "metadata": {
        "id": "j2YGxcxIWaeQ"
      },
      "source": [
        " df.keys()        #Returns all the keys of the dataset dictionary"
      ],
      "execution_count": null,
      "outputs": []
    },
    {
      "cell_type": "code",
      "metadata": {
        "id": "M6J161mZTUHH"
      },
      "source": [
        " print(df.data)     #Info about the dataset"
      ],
      "execution_count": null,
      "outputs": []
    },
    {
      "cell_type": "code",
      "metadata": {
        "id": "qBuYHN1AWM-7"
      },
      "source": [
        " boston = pd.DataFrame(df.data, columns=df.feature_names)\n",
        " boston.head() "
      ],
      "execution_count": null,
      "outputs": []
    },
    {
      "cell_type": "code",
      "metadata": {
        "id": "VZOnCsZCYkj7"
      },
      "source": [
        " boston['MEDV'] = df.target\n",
        " boston.head()"
      ],
      "execution_count": null,
      "outputs": []
    },
    {
      "cell_type": "code",
      "metadata": {
        "id": "CprAuEH_ZY4-"
      },
      "source": [
        " boston.isnull()"
      ],
      "execution_count": null,
      "outputs": []
    },
    {
      "cell_type": "code",
      "metadata": {
        "id": "M959YjnkZ32G"
      },
      "source": [
        " boston.isnull().sum()"
      ],
      "execution_count": null,
      "outputs": []
    },
    {
      "cell_type": "code",
      "metadata": {
        "id": "f8T7rm93aiNg"
      },
      "source": [
        " from sklearn.model_selection import train_test_split\n",
        "\n",
        " X = boston.drop('MEDV', axis=1)\n",
        " Y = boston['MEDV']\n",
        "\n",
        " X_train, X_test, Y_test = train_test_split(X, Y, test_size= 0.15, ramdom_state=5)\n",
        "\n",
        " print(X_train.shape)\n",
        " print(X_test.shape)\n",
        " print(Y_train.shape)\n",
        " print(y_test.shape)"
      ],
      "execution_count": null,
      "outputs": []
    },
    {
      "cell_type": "code",
      "metadata": {
        "id": "qQKaDviPw-WE"
      },
      "source": [
        " from sklearn.linear_model import LinearRegression\n",
        " from sklearn.metrics import mean_squared_error"
      ],
      "execution_count": null,
      "outputs": []
    },
    {
      "cell_type": "code",
      "metadata": {
        "id": "5FjvZPB_zifZ"
      },
      "source": [
        "## FITTING MODEL ON THE TRAINING DATASET\n",
        "\n",
        "lin_model = LinearRegression()\n",
        "\n",
        "lin_model.fit(X_train, Y_train)"
      ],
      "execution_count": null,
      "outputs": []
    },
    {
      "cell_type": "code",
      "metadata": {
        "id": "0gR2tuSh0NPz"
      },
      "source": [
        "y_train_predict = lin_model.predict(X_train)\n",
        "rmse = (np.sqrt(mean_squared_error(Y_train, y_train_predict)))\n",
        "\n",
        "print(\"the model performance for training set\")\n",
        "print('RMSE is {}'. format (rmse))\n",
        "print(\"\\n\")\n",
        "\n",
        "# on testing set\n",
        "y_test_predict = lin_model.predict(X_test)\n",
        "rmse = (np.sqrt(mean_squared_error(Y_test, y_test_predict)))\n",
        "\n",
        "print(\"the model performance for testing set\")\n",
        "print('RMSE is {}'.format (rmse))"
      ],
      "execution_count": null,
      "outputs": []
    }
  ]
}